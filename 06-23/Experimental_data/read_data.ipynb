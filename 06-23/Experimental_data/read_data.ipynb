{
 "cells": [
  {
   "cell_type": "code",
   "execution_count": 1,
   "id": "820f8bf9",
   "metadata": {},
   "outputs": [],
   "source": [
    "import xlrd\n",
    "\n",
    "from xlrd import xldate_as_tuple\n",
    "\n",
    "import datetime\n",
    "import numpy as np"
   ]
  },
  {
   "cell_type": "code",
   "execution_count": 2,
   "id": "4f120421",
   "metadata": {},
   "outputs": [],
   "source": [
    "data_CO2 = xlrd.open_workbook(r'G:\\Imperial\\ACSE-9\\data\\real_data\\real_data_CO2.xlsx')\n",
    "data_Humidity = xlrd.open_workbook(r'G:\\Imperial\\ACSE-9\\data\\real_data\\real_data_Humidity.xlsx')\n",
    "data_Temperature = xlrd.open_workbook(r'G:\\Imperial\\ACSE-9\\data\\real_data\\real_data_Temp.xlsx')"
   ]
  },
  {
   "cell_type": "code",
   "execution_count": 3,
   "id": "90c2f426",
   "metadata": {},
   "outputs": [],
   "source": [
    "def read_real_data(excel_data):\n",
    "    sheet1 = excel_data.sheets()[0]\n",
    "    ncols = sheet1.ncols\n",
    "    real_data = []\n",
    "    for i in range(1, ncols):\n",
    "        sensor_data = sheet1.col_values(i)[1:]\n",
    "        count = 0\n",
    "        for j in range(len(sensor_data)-1):\n",
    "            avg = (sensor_data[j+count]+sensor_data[j+1+count])/2\n",
    "            count += 1\n",
    "            sensor_data.insert(j+count, avg)\n",
    "        real_data.append(sensor_data)\n",
    "    real_data = np.array(real_data)[:,:-1]\n",
    "    return real_data"
   ]
  },
  {
   "cell_type": "code",
   "execution_count": 4,
   "id": "551caf12",
   "metadata": {
    "scrolled": false
   },
   "outputs": [],
   "source": [
    "real_data_CO2 = read_real_data(data_CO2)\n",
    "real_data_Humidity = read_real_data(data_Humidity)\n",
    "real_data_Temperature = read_real_data(data_Temperature)"
   ]
  },
  {
   "cell_type": "code",
   "execution_count": 5,
   "id": "c3eabd2b",
   "metadata": {
    "scrolled": true
   },
   "outputs": [],
   "source": [
    "real_data_CO2 = real_data_CO2.transpose().tolist()\n",
    "real_data_Humidity = real_data_Humidity.transpose().tolist()\n",
    "real_data_Temperature = real_data_Temperature.transpose().tolist()"
   ]
  },
  {
   "cell_type": "code",
   "execution_count": 6,
   "id": "95611100",
   "metadata": {},
   "outputs": [],
   "source": [
    "total_data = [real_data_CO2, real_data_Humidity, real_data_Temperature]"
   ]
  },
  {
   "cell_type": "code",
   "execution_count": 7,
   "id": "e87012a5",
   "metadata": {},
   "outputs": [],
   "source": [
    "total_array = np.array(total_data)"
   ]
  },
  {
   "cell_type": "code",
   "execution_count": 8,
   "id": "40ea0402",
   "metadata": {},
   "outputs": [],
   "source": [
    "np.save('real_value.npy', total_array)"
   ]
  },
  {
   "cell_type": "code",
   "execution_count": 9,
   "id": "3046aca7",
   "metadata": {},
   "outputs": [
    {
     "data": {
      "text/plain": [
       "(3, 120, 18)"
      ]
     },
     "execution_count": 9,
     "metadata": {},
     "output_type": "execute_result"
    }
   ],
   "source": [
    "total_array.shape"
   ]
  },
  {
   "cell_type": "code",
   "execution_count": null,
   "id": "72b597cf",
   "metadata": {},
   "outputs": [],
   "source": []
  }
 ],
 "metadata": {
  "kernelspec": {
   "display_name": "Python 3.8.8 ('base')",
   "language": "python",
   "name": "python3"
  },
  "language_info": {
   "codemirror_mode": {
    "name": "ipython",
    "version": 3
   },
   "file_extension": ".py",
   "mimetype": "text/x-python",
   "name": "python",
   "nbconvert_exporter": "python",
   "pygments_lexer": "ipython3",
   "version": "3.8.8"
  },
  "vscode": {
   "interpreter": {
    "hash": "91bb753b057673435fb8d6f6a083e6c818364728098c7ae050ca3a25357dd754"
   }
  }
 },
 "nbformat": 4,
 "nbformat_minor": 5
}
