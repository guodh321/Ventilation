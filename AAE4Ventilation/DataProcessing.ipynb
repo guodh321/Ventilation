{
 "cells": [
  {
   "cell_type": "markdown",
   "metadata": {},
   "source": [
    "## Initial settings"
   ]
  },
  {
   "cell_type": "code",
   "execution_count": null,
   "metadata": {},
   "outputs": [],
   "source": [
    "import os\n",
    "os.environ[\"CUDA_VISIBLE_DEVICES\"] = f\"{7}\""
   ]
  },
  {
   "cell_type": "code",
   "execution_count": null,
   "metadata": {},
   "outputs": [
    {
     "name": "stderr",
     "output_type": "stream",
     "text": [
      "2024-01-09 18:28:57.001421: I tensorflow/core/util/util.cc:169] oneDNN custom operations are on. You may see slightly different numerical results due to floating-point round-off errors from different computation orders. To turn them off, set the environment variable `TF_ENABLE_ONEDNN_OPTS=0`.\n"
     ]
    }
   ],
   "source": [
    "import numpy as np\n",
    "import pandas as pd\n",
    "import matplotlib.pyplot as plt\n",
    "\n",
    "import sys\n",
    "sys.path.append(\"..\")\n",
    "import tools as t\n",
    "import joblib\n",
    "\n",
    "from sklearn.decomposition import PCA\n",
    "from tensorflow.keras.models import load_model\n",
    "from sklearn.model_selection import train_test_split\n",
    "from sklearn.preprocessing import StandardScaler\n",
    "\n",
    "from tensorflow import keras\n",
    "import tensorflow as tf"
   ]
  },
  {
   "cell_type": "code",
   "execution_count": null,
   "metadata": {},
   "outputs": [],
   "source": [
    "root_path = \"/home/dg321/gitTest/PRI/irp/Ventilation/AAE4Ventilation\""
   ]
  },
  {
   "cell_type": "markdown",
   "metadata": {},
   "source": [
    "## Load raw data"
   ]
  },
  {
   "cell_type": "code",
   "execution_count": null,
   "metadata": {},
   "outputs": [
    {
     "name": "stdout",
     "output_type": "stream",
     "text": [
      "(198403, 81)\n"
     ]
    }
   ],
   "source": [
    "# change the data path here\n",
    "train_1 = pd.read_csv(root_path + \"/data_new/6GIC_meeting_room_sensors_2023-11-09.csv\")\n",
    "print(train_1.shape)"
   ]
  },
  {
   "cell_type": "code",
   "execution_count": null,
   "metadata": {},
   "outputs": [
    {
     "name": "stdout",
     "output_type": "stream",
     "text": [
      "                  time  time_sin  time_cos  Occupancy  door_gap  window_gap  \\\n",
      "0  2023-06-27 17:53:00 -0.999534 -0.030539        0.0       1.0         2.0   \n",
      "1  2023-06-27 17:54:00 -0.999657 -0.026177        0.0       1.0         2.0   \n",
      "2  2023-06-27 17:55:00 -0.999762 -0.021815        0.0       1.0         2.0   \n",
      "3  2023-06-27 17:56:00 -0.999848 -0.017452        0.0       1.0         2.0   \n",
      "4  2023-06-27 17:57:00 -0.999914 -0.013090        0.0       1.0         2.0   \n",
      "\n",
      "   humidity  VOC_ppb  temperature_Main  temperature_FRT  ...  \\\n",
      "0      59.0    157.0             21.99              NaN  ...   \n",
      "1      59.0    157.0             21.99              NaN  ...   \n",
      "2      59.0    157.0             21.99              NaN  ...   \n",
      "3      59.0    157.0             21.99              NaN  ...   \n",
      "4      59.0    157.0             21.99              NaN  ...   \n",
      "\n",
      "   outdoor_temperature  outdoor_humidity  outdoor_windgust  outdoor_windspeed  \\\n",
      "0                 15.9              83.2              19.8               12.2   \n",
      "1                 15.9              83.2              19.8               12.2   \n",
      "2                 15.9              83.2              19.8               12.2   \n",
      "3                 15.9              83.2              19.8               12.2   \n",
      "4                 15.9              83.2              19.8               12.2   \n",
      "\n",
      "   outdoor_winddir  outdoor_sealevelpressure  outdoor_dew  outdoor_cloudcover  \\\n",
      "0            191.0                    1021.8         13.1                15.1   \n",
      "1            191.0                    1021.8         13.1                15.1   \n",
      "2            191.0                    1021.8         13.1                15.1   \n",
      "3            191.0                    1021.8         13.1                15.1   \n",
      "4            191.0                    1021.8         13.1                15.1   \n",
      "\n",
      "   outdoor_solarradiation  outdoor_solarenergy  \n",
      "0                     0.0                  0.0  \n",
      "1                     0.0                  0.0  \n",
      "2                     0.0                  0.0  \n",
      "3                     0.0                  0.0  \n",
      "4                     0.0                  0.0  \n",
      "\n",
      "[5 rows x 81 columns]\n"
     ]
    }
   ],
   "source": [
    "print(train_1.head(5))"
   ]
  },
  {
   "cell_type": "code",
   "execution_count": null,
   "metadata": {},
   "outputs": [
    {
     "name": "stdout",
     "output_type": "stream",
     "text": [
      "2023-06-27 17:53:00\n",
      "2023-10-04 22:35:00\n"
     ]
    }
   ],
   "source": [
    "print(train_1[\"time\"][0])\n",
    "print(train_1[\"time\"][158721])"
   ]
  },
  {
   "cell_type": "code",
   "execution_count": null,
   "metadata": {},
   "outputs": [],
   "source": [
    "train_1['time'] = pd.to_datetime(train_1['time'])"
   ]
  },
  {
   "cell_type": "code",
   "execution_count": null,
   "metadata": {},
   "outputs": [
    {
     "name": "stdout",
     "output_type": "stream",
     "text": [
      "                      time  time_sin  time_cos  Occupancy  door_gap  \\\n",
      "198398 2023-10-31 19:33:00 -0.918791  0.394744        0.0       0.0   \n",
      "198399 2023-10-31 19:34:00 -0.917060  0.398749        0.0       0.0   \n",
      "198400 2023-10-31 19:35:00 -0.915311  0.402747        0.0       0.0   \n",
      "198401 2023-10-31 19:36:00 -0.913545  0.406737        0.0       0.0   \n",
      "198402 2023-10-31 19:37:00 -0.911762  0.410719        0.0       0.0   \n",
      "\n",
      "        window_gap  humidity  VOC_ppb  temperature_Main  temperature_FRT  ...  \\\n",
      "198398    0.000000      49.0    119.0             22.02              NaN  ...   \n",
      "198399    0.600000      49.0    112.0             22.02              NaN  ...   \n",
      "198400    0.166667      49.0    112.0             22.02              NaN  ...   \n",
      "198401    0.000000      49.0    112.0             22.02              NaN  ...   \n",
      "198402    0.000000      49.0    112.0             22.02              NaN  ...   \n",
      "\n",
      "        outdoor_temperature  outdoor_humidity  outdoor_windgust  \\\n",
      "198398                 12.0             88.63              16.6   \n",
      "198399                 12.0             88.63              16.6   \n",
      "198400                 12.0             88.63              16.6   \n",
      "198401                 12.0             88.63              16.6   \n",
      "198402                 12.0             88.63              16.6   \n",
      "\n",
      "        outdoor_windspeed  outdoor_winddir  outdoor_sealevelpressure  \\\n",
      "198398               14.4            197.0                    1001.2   \n",
      "198399               14.4            197.0                    1001.2   \n",
      "198400               14.4            197.0                    1001.2   \n",
      "198401               14.4            197.0                    1001.2   \n",
      "198402               14.4            197.0                    1001.2   \n",
      "\n",
      "        outdoor_dew  outdoor_cloudcover  outdoor_solarradiation  \\\n",
      "198398         10.1                52.2                     0.0   \n",
      "198399         10.1                52.2                     0.0   \n",
      "198400         10.1                52.2                     0.0   \n",
      "198401         10.1                52.2                     0.0   \n",
      "198402         10.1                52.2                     0.0   \n",
      "\n",
      "        outdoor_solarenergy  \n",
      "198398                  0.0  \n",
      "198399                  0.0  \n",
      "198400                  0.0  \n",
      "198401                  0.0  \n",
      "198402                  0.0  \n",
      "\n",
      "[5 rows x 81 columns]\n"
     ]
    }
   ],
   "source": [
    "print(train_1.tail(5))"
   ]
  },
  {
   "cell_type": "code",
   "execution_count": null,
   "metadata": {},
   "outputs": [
    {
     "name": "stdout",
     "output_type": "stream",
     "text": [
      "Index(['time', 'time_sin', 'time_cos', 'Occupancy', 'door_gap', 'window_gap',\n",
      "       'humidity', 'VOC_ppb', 'temperature_Main', 'temperature_FRT',\n",
      "       'temperature_FRM', 'temperature_FRB', 'temperature_FMT',\n",
      "       'temperature_FMM', 'temperature_FMB', 'temperature_FLT',\n",
      "       'temperature_FLM', 'temperature_FLB', 'temperature_BRT',\n",
      "       'temperature_BRM', 'temperature_BRB', 'temperature_BMT',\n",
      "       'temperature_BMM', 'temperature_BMB', 'temperature_BLT',\n",
      "       'temperature_BLM', 'temperature_BLB', 'temperature_WRB',\n",
      "       'temperature_WMB', 'temperature_WLB', 'temperature_WLF',\n",
      "       'temperature_DoorRT', 'temperature_BTable', 'temperature_PRUR',\n",
      "       'temperature_PRUL', 'temperature_PRDR', 'temperature_PRDL',\n",
      "       'temperature_PLDR', 'temperature_PLDL', 'temperature_Out', 'light_FRT',\n",
      "       'light_FRM', 'light_FRB', 'light_FMT', 'light_FMM', 'light_FMB',\n",
      "       'light_FLT', 'light_FLM', 'light_FLB', 'light_BRT', 'light_BRM',\n",
      "       'light_BRB', 'light_BMT', 'light_BMM', 'light_BMB', 'light_BLT',\n",
      "       'light_BLM', 'light_BLB', 'light_WRB', 'light_WMB', 'light_WLB',\n",
      "       'light_WLF', 'light_DoorRT', 'light_BTable', 'light_PRUR', 'light_PRUL',\n",
      "       'light_PRDR', 'light_PRDL', 'light_PLDR', 'light_PLDL', 'light_Out',\n",
      "       'outdoor_temperature', 'outdoor_humidity', 'outdoor_windgust',\n",
      "       'outdoor_windspeed', 'outdoor_winddir', 'outdoor_sealevelpressure',\n",
      "       'outdoor_dew', 'outdoor_cloudcover', 'outdoor_solarradiation',\n",
      "       'outdoor_solarenergy'],\n",
      "      dtype='object')\n"
     ]
    }
   ],
   "source": [
    "print(train_1.columns)"
   ]
  },
  {
   "cell_type": "code",
   "execution_count": null,
   "metadata": {},
   "outputs": [],
   "source": [
    "column_names_list = train_1.columns.tolist()"
   ]
  },
  {
   "cell_type": "code",
   "execution_count": null,
   "metadata": {},
   "outputs": [
    {
     "name": "stdout",
     "output_type": "stream",
     "text": [
      "<class 'pandas.core.frame.DataFrame'>\n",
      "RangeIndex: 198403 entries, 0 to 198402\n",
      "Data columns (total 81 columns):\n",
      " #   Column                    Non-Null Count   Dtype         \n",
      "---  ------                    --------------   -----         \n",
      " 0   time                      198403 non-null  datetime64[ns]\n",
      " 1   time_sin                  198403 non-null  float64       \n",
      " 2   time_cos                  198403 non-null  float64       \n",
      " 3   Occupancy                 198403 non-null  float64       \n",
      " 4   door_gap                  198403 non-null  float64       \n",
      " 5   window_gap                198403 non-null  float64       \n",
      " 6   humidity                  198403 non-null  float64       \n",
      " 7   VOC_ppb                   198403 non-null  float64       \n",
      " 8   temperature_Main          198403 non-null  float64       \n",
      " 9   temperature_FRT           0 non-null       float64       \n",
      " 10  temperature_FRM           0 non-null       float64       \n",
      " 11  temperature_FRB           0 non-null       float64       \n",
      " 12  temperature_FMT           0 non-null       float64       \n",
      " 13  temperature_FMM           0 non-null       float64       \n",
      " 14  temperature_FMB           0 non-null       float64       \n",
      " 15  temperature_FLT           0 non-null       float64       \n",
      " 16  temperature_FLM           0 non-null       float64       \n",
      " 17  temperature_FLB           0 non-null       float64       \n",
      " 18  temperature_BRT           198403 non-null  float64       \n",
      " 19  temperature_BRM           198403 non-null  float64       \n",
      " 20  temperature_BRB           198403 non-null  float64       \n",
      " 21  temperature_BMT           198403 non-null  float64       \n",
      " 22  temperature_BMM           198403 non-null  float64       \n",
      " 23  temperature_BMB           0 non-null       float64       \n",
      " 24  temperature_BLT           198403 non-null  float64       \n",
      " 25  temperature_BLM           0 non-null       float64       \n",
      " 26  temperature_BLB           198403 non-null  float64       \n",
      " 27  temperature_WRB           198403 non-null  float64       \n",
      " 28  temperature_WMB           198403 non-null  float64       \n",
      " 29  temperature_WLB           198403 non-null  float64       \n",
      " 30  temperature_WLF           198403 non-null  float64       \n",
      " 31  temperature_DoorRT        198403 non-null  float64       \n",
      " 32  temperature_BTable        198403 non-null  float64       \n",
      " 33  temperature_PRUR          198403 non-null  float64       \n",
      " 34  temperature_PRUL          198403 non-null  float64       \n",
      " 35  temperature_PRDR          198403 non-null  float64       \n",
      " 36  temperature_PRDL          198403 non-null  float64       \n",
      " 37  temperature_PLDR          198403 non-null  float64       \n",
      " 38  temperature_PLDL          0 non-null       float64       \n",
      " 39  temperature_Out           198403 non-null  float64       \n",
      " 40  light_FRT                 0 non-null       float64       \n",
      " 41  light_FRM                 0 non-null       float64       \n",
      " 42  light_FRB                 0 non-null       float64       \n",
      " 43  light_FMT                 0 non-null       float64       \n",
      " 44  light_FMM                 0 non-null       float64       \n",
      " 45  light_FMB                 0 non-null       float64       \n",
      " 46  light_FLT                 0 non-null       float64       \n",
      " 47  light_FLM                 0 non-null       float64       \n",
      " 48  light_FLB                 0 non-null       float64       \n",
      " 49  light_BRT                 198403 non-null  float64       \n",
      " 50  light_BRM                 198403 non-null  float64       \n",
      " 51  light_BRB                 198403 non-null  float64       \n",
      " 52  light_BMT                 198403 non-null  float64       \n",
      " 53  light_BMM                 198403 non-null  float64       \n",
      " 54  light_BMB                 0 non-null       float64       \n",
      " 55  light_BLT                 198403 non-null  float64       \n",
      " 56  light_BLM                 0 non-null       float64       \n",
      " 57  light_BLB                 198403 non-null  float64       \n",
      " 58  light_WRB                 198403 non-null  float64       \n",
      " 59  light_WMB                 198403 non-null  float64       \n",
      " 60  light_WLB                 198403 non-null  float64       \n",
      " 61  light_WLF                 198403 non-null  float64       \n",
      " 62  light_DoorRT              198403 non-null  float64       \n",
      " 63  light_BTable              198403 non-null  float64       \n",
      " 64  light_PRUR                198403 non-null  float64       \n",
      " 65  light_PRUL                198403 non-null  float64       \n",
      " 66  light_PRDR                198403 non-null  float64       \n",
      " 67  light_PRDL                198403 non-null  float64       \n",
      " 68  light_PLDR                198403 non-null  float64       \n",
      " 69  light_PLDL                0 non-null       float64       \n",
      " 70  light_Out                 198403 non-null  float64       \n",
      " 71  outdoor_temperature       198403 non-null  float64       \n",
      " 72  outdoor_humidity          198403 non-null  float64       \n",
      " 73  outdoor_windgust          198403 non-null  float64       \n",
      " 74  outdoor_windspeed         198403 non-null  float64       \n",
      " 75  outdoor_winddir           198403 non-null  float64       \n",
      " 76  outdoor_sealevelpressure  198403 non-null  float64       \n",
      " 77  outdoor_dew               198403 non-null  float64       \n",
      " 78  outdoor_cloudcover        198403 non-null  float64       \n",
      " 79  outdoor_solarradiation    198403 non-null  float64       \n",
      " 80  outdoor_solarenergy       198403 non-null  float64       \n",
      "dtypes: datetime64[ns](1), float64(80)\n",
      "memory usage: 122.6 MB\n"
     ]
    }
   ],
   "source": [
    "train_1.info()"
   ]
  },
  {
   "cell_type": "code",
   "execution_count": null,
   "metadata": {},
   "outputs": [],
   "source": [
    "# Plot data over the whole time period\n",
    "# data_after_specific_date = train_1\n",
    "\n",
    "# # data_after_specific_date = data_after_specific_date.dropna(axis=1)\n",
    "# print(data_after_specific_date.shape)\n",
    "\n",
    "\n",
    "# for i in range(data_after_specific_date.shape[1]):\n",
    "#     plt.figure(figsize=(12, 6))\n",
    "#     plt.plot(data_after_specific_date['time'], data_after_specific_date.iloc[:,i], label=column_names_list[i])\n",
    "#     plt.xlabel('Timestamp')\n",
    "#     plt.ylabel('Your Value')\n",
    "#     plt.title(column_names_list[i])\n",
    "#     plt.legend()\n",
    "#     plt.show()"
   ]
  },
  {
   "cell_type": "code",
   "execution_count": null,
   "metadata": {},
   "outputs": [
    {
     "name": "stdout",
     "output_type": "stream",
     "text": [
      "(51880, 57)\n"
     ]
    }
   ],
   "source": [
    "specific_date = pd.to_datetime('2023-09-06')\n",
    "specific_date1 = pd.to_datetime('2023-10-01')\n",
    "\n",
    "data_after_specific_date = train_1[(train_1['time'] >= specific_date) & (train_1['time'] <= specific_date1)]\n",
    "\n",
    "data_after_specific_date = data_after_specific_date.dropna(axis=1)\n",
    "print(data_after_specific_date.shape)\n",
    "\n",
    "\n",
    "# for i in range(data_after_specific_date.shape[1]):\n",
    "#     plt.figure(figsize=(12, 6))\n",
    "#     plt.plot(data_after_specific_date['time'], data_after_specific_date.iloc[:,i], label=column_names_list[i])\n",
    "#     plt.xlabel('Timestamp')\n",
    "#     plt.ylabel('Your Value')\n",
    "#     plt.title(column_names_list[i])\n",
    "#     plt.legend()\n",
    "#     plt.show()"
   ]
  },
  {
   "cell_type": "code",
   "execution_count": null,
   "metadata": {},
   "outputs": [
    {
     "name": "stdout",
     "output_type": "stream",
     "text": [
      "                      time  time_sin  time_cos  Occupancy  door_gap  \\\n",
      "101167 2023-09-06 00:00:00  0.000000  1.000000        0.0       1.0   \n",
      "101168 2023-09-06 00:01:00  0.004363  0.999990        0.0       1.0   \n",
      "101169 2023-09-06 00:02:00  0.008727  0.999962        0.0       1.0   \n",
      "101170 2023-09-06 00:03:00  0.013090  0.999914        0.0       1.0   \n",
      "101171 2023-09-06 00:04:00  0.017452  0.999848        0.0       1.0   \n",
      "\n",
      "        window_gap  humidity  VOC_ppb  temperature_Main  temperature_BRT  ...  \\\n",
      "101167         2.0      60.0    195.0             23.68        27.210708  ...   \n",
      "101168         2.0      60.0    195.0             23.68        27.210708  ...   \n",
      "101169         2.0      60.0    195.0             23.68        27.210708  ...   \n",
      "101170         2.0      60.0    195.0             23.68        27.210708  ...   \n",
      "101171         2.0      60.0    219.0             23.66        27.210708  ...   \n",
      "\n",
      "        outdoor_temperature  outdoor_humidity  outdoor_windgust  \\\n",
      "101167                 15.9              83.2              19.8   \n",
      "101168                 15.9              83.2              19.8   \n",
      "101169                 15.9              83.2              19.8   \n",
      "101170                 15.9              83.2              19.8   \n",
      "101171                 15.9              83.2              19.8   \n",
      "\n",
      "        outdoor_windspeed  outdoor_winddir  outdoor_sealevelpressure  \\\n",
      "101167               12.2            191.0                    1021.8   \n",
      "101168               12.2            191.0                    1021.8   \n",
      "101169               12.2            191.0                    1021.8   \n",
      "101170               12.2            191.0                    1021.8   \n",
      "101171               12.2            191.0                    1021.8   \n",
      "\n",
      "        outdoor_dew  outdoor_cloudcover  outdoor_solarradiation  \\\n",
      "101167         13.1                15.1                     0.0   \n",
      "101168         13.1                15.1                     0.0   \n",
      "101169         13.1                15.1                     0.0   \n",
      "101170         13.1                15.1                     0.0   \n",
      "101171         13.1                15.1                     0.0   \n",
      "\n",
      "        outdoor_solarenergy  \n",
      "101167                  0.0  \n",
      "101168                  0.0  \n",
      "101169                  0.0  \n",
      "101170                  0.0  \n",
      "101171                  0.0  \n",
      "\n",
      "[5 rows x 57 columns]\n",
      "(51880, 57)\n"
     ]
    }
   ],
   "source": [
    "print(data_after_specific_date.head(5))\n",
    "print(data_after_specific_date.shape)"
   ]
  },
  {
   "cell_type": "code",
   "execution_count": null,
   "metadata": {},
   "outputs": [
    {
     "name": "stdout",
     "output_type": "stream",
     "text": [
      "(51880, 56)\n"
     ]
    }
   ],
   "source": [
    "# Extract features (X)\n",
    "X = data_after_specific_date.drop(columns=['time']).to_numpy()\n",
    "print(X.shape)"
   ]
  },
  {
   "cell_type": "code",
   "execution_count": null,
   "metadata": {},
   "outputs": [],
   "source": [
    "\n",
    "# Split the data into training, validation, and test sets\n",
    "# Adjust the test_size and random_state as needed\n",
    "\n",
    "X_train = X[:36316,:]\n",
    "# X_val, X_test = train_test_split(X_temp, test_size=0.5, random_state=None)\n",
    "\n",
    "# # Normalize the features using StandardScaler\n",
    "# scaler = StandardScaler()\n",
    "\n",
    "# # Fit on training data and transform the training set\n",
    "# X_train_normalized = scaler.fit_transform(X_train)\n",
    "\n",
    "# # Transform the validation and test sets using the same scaler\n",
    "# X_val_normalized = scaler.transform(X_val)\n",
    "# X_test_normalized = scaler.transform(X_test)\n",
    "\n",
    "# print(X_train_normalized.shape)\n",
    "# print(X_test_normalized.shape)\n",
    "# print(X_val_normalized.shape)"
   ]
  },
  {
   "cell_type": "code",
   "execution_count": null,
   "metadata": {},
   "outputs": [],
   "source": [
    "fields_list = (data_after_specific_date.drop(columns=['time'])).columns.tolist()"
   ]
  },
  {
   "cell_type": "code",
   "execution_count": null,
   "metadata": {},
   "outputs": [],
   "source": [
    "# np.save(root_path + '/data/X_train_1124.npy', X_train)"
   ]
  },
  {
   "cell_type": "code",
   "execution_count": null,
   "metadata": {},
   "outputs": [
    {
     "name": "stdout",
     "output_type": "stream",
     "text": [
      "(36316, 56)\n"
     ]
    }
   ],
   "source": [
    "print(X_train.shape)"
   ]
  },
  {
   "cell_type": "code",
   "execution_count": null,
   "metadata": {},
   "outputs": [],
   "source": [
    "all_values = X_train"
   ]
  },
  {
   "cell_type": "code",
   "execution_count": null,
   "metadata": {},
   "outputs": [
    {
     "name": "stdout",
     "output_type": "stream",
     "text": [
      "(300,)\n"
     ]
    }
   ],
   "source": [
    "print(X[:300, 0].shape)"
   ]
  },
  {
   "cell_type": "markdown",
   "metadata": {},
   "source": [
    "## Standardise the Data (could skip this part)"
   ]
  },
  {
   "cell_type": "code",
   "execution_count": null,
   "metadata": {},
   "outputs": [],
   "source": [
    "fields = X_train"
   ]
  },
  {
   "cell_type": "code",
   "execution_count": null,
   "metadata": {},
   "outputs": [
    {
     "name": "stdout",
     "output_type": "stream",
     "text": [
      "(36316, 56)\n"
     ]
    }
   ],
   "source": [
    "print(fields.shape)"
   ]
  },
  {
   "cell_type": "code",
   "execution_count": null,
   "metadata": {},
   "outputs": [
    {
     "name": "stdout",
     "output_type": "stream",
     "text": [
      "(36316,)\n",
      "(36316, 1)\n",
      "(36316,)\n",
      "(36316, 1)\n",
      "(36316,)\n",
      "(36316, 1)\n",
      "(36316,)\n",
      "(36316, 1)\n",
      "(36316,)\n",
      "(36316, 1)\n",
      "(36316,)\n",
      "(36316, 1)\n",
      "(36316,)\n",
      "(36316, 1)\n",
      "(36316,)\n",
      "(36316, 1)\n",
      "(36316,)\n",
      "(36316, 1)\n",
      "(36316,)\n",
      "(36316, 1)\n",
      "(36316,)\n",
      "(36316, 1)\n",
      "(36316,)\n",
      "(36316, 1)\n",
      "(36316,)\n",
      "(36316, 1)\n",
      "(36316,)\n",
      "(36316, 1)\n",
      "(36316,)\n",
      "(36316, 1)\n",
      "(36316,)\n",
      "(36316, 1)\n",
      "(36316,)\n",
      "(36316, 1)\n",
      "(36316,)\n",
      "(36316, 1)\n",
      "(36316,)\n",
      "(36316, 1)\n",
      "(36316,)\n",
      "(36316, 1)\n",
      "(36316,)\n",
      "(36316, 1)\n",
      "(36316,)\n",
      "(36316, 1)\n",
      "(36316,)\n",
      "(36316, 1)\n",
      "(36316,)\n",
      "(36316, 1)\n",
      "(36316,)\n",
      "(36316, 1)\n",
      "(36316,)\n",
      "(36316, 1)\n",
      "(36316,)\n",
      "(36316, 1)\n",
      "(36316,)\n",
      "(36316, 1)\n",
      "(36316,)\n",
      "(36316, 1)\n",
      "(36316,)\n",
      "(36316, 1)\n",
      "(36316,)\n",
      "(36316, 1)\n",
      "(36316,)\n",
      "(36316, 1)\n",
      "(36316,)\n",
      "(36316, 1)\n",
      "(36316,)\n",
      "(36316, 1)\n",
      "(36316,)\n",
      "(36316, 1)\n",
      "(36316,)\n",
      "(36316, 1)\n",
      "(36316,)\n",
      "(36316, 1)\n",
      "(36316,)\n",
      "(36316, 1)\n",
      "(36316,)\n",
      "(36316, 1)\n",
      "(36316,)\n",
      "(36316, 1)\n",
      "(36316,)\n",
      "(36316, 1)\n",
      "(36316,)\n",
      "(36316, 1)\n",
      "(36316,)\n",
      "(36316, 1)\n",
      "(36316,)\n",
      "(36316, 1)\n",
      "(36316,)\n",
      "(36316, 1)\n",
      "(36316,)\n",
      "(36316, 1)\n",
      "(36316,)\n",
      "(36316, 1)\n",
      "(36316,)\n",
      "(36316, 1)\n",
      "(36316,)\n",
      "(36316, 1)\n",
      "(36316,)\n",
      "(36316, 1)\n",
      "(36316,)\n",
      "(36316, 1)\n",
      "(36316,)\n",
      "(36316, 1)\n",
      "(36316,)\n",
      "(36316, 1)\n",
      "(36316,)\n",
      "(36316, 1)\n",
      "(36316,)\n",
      "(36316, 1)\n",
      "(36316,)\n",
      "(36316, 1)\n"
     ]
    }
   ],
   "source": [
    "from sklearn.preprocessing import MinMaxScaler\n",
    "import joblib\n",
    "\n",
    "# change the output file name\n",
    "fields_scaled = []\n",
    "\n",
    "for i in range(0, fields.shape[1]):\n",
    "    scaler = MinMaxScaler((0, 1))\n",
    "    # Use fields[:, i] instead of fields[fields_list[i]]\n",
    "    scaler.fit(fields[:, i].reshape(-1, 1))\n",
    "    \n",
    "    # Use fields[:, i] instead of fields[fields_list[i]]\n",
    "    field_scaled = scaler.transform(fields[:, i].reshape(-1, 1))\n",
    "    \n",
    "    joblib.dump(scaler, root_path + '/scalers/1124_train_scaler01_{}.pkl'.format(fields_list[i]))\n",
    "    \n",
    "    print(fields[:, i].shape)\n",
    "    print(field_scaled.shape)\n",
    "    \n",
    "    # Append the entire column, not just the reshaped array\n",
    "    fields_scaled.append(field_scaled)\n",
    "\n",
    "# Convert the list to a NumPy array\n",
    "fields_scaled = np.stack(fields_scaled)"
   ]
  },
  {
   "cell_type": "code",
   "execution_count": null,
   "metadata": {},
   "outputs": [],
   "source": [
    "all_values = np.hstack(fields_scaled)"
   ]
  },
  {
   "cell_type": "code",
   "execution_count": null,
   "metadata": {},
   "outputs": [
    {
     "name": "stdout",
     "output_type": "stream",
     "text": [
      "(36316, 56)\n"
     ]
    }
   ],
   "source": [
    "print(all_values.shape)"
   ]
  },
  {
   "cell_type": "code",
   "execution_count": null,
   "metadata": {},
   "outputs": [],
   "source": [
    "np.save(root_path + '/data/all_values_1124.npy', all_values)"
   ]
  }
 ],
 "metadata": {
  "language_info": {
   "name": "python"
  }
 },
 "nbformat": 4,
 "nbformat_minor": 2
}
